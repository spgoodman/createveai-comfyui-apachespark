{
 "cells": [
  {
   "cell_type": "markdown",
   "metadata": {},
   "source": [
    "# Generate Sample Dataset for ComfyUI Spark Integration\n",
    "\n",
    "This notebook creates a sample dataset containing image descriptions and metadata that we'll use to demonstrate the Spark integration with ComfyUI."
   ]
  },
  {
   "cell_type": "code",
   "execution_count": null,
   "metadata": {},
   "source": [
    "import pyspark\n",
    "from pyspark.sql import SparkSession\n",
    "from pyspark.sql.types import *\n",
    "from pyspark.sql import functions as F\n",
    "import random\n",
    "import json\n",
    "from datetime import datetime"
   ]
  },
  {
   "cell_type": "code",
   "execution_count": null,
   "metadata": {},
   "source": [
    "# Initialize Spark session\n",
    "spark = SparkSession.builder \\\n",
    "    .appName(\"Sample Dataset Generator\") \\\n",
    "    .master(\"spark://spark:7077\") \\\n",
    "    .config(\"spark.driver.memory\", \"2g\") \\\n",
    "    .config(\"spark.executor.memory\", \"2g\") \\\n",
    "    .getOrCreate()"
   ]
  },
  {
   "cell_type": "code",
   "execution_count": null,
   "metadata": {},
   "source": [
    "# Sample data generation functions\n",
    "def generate_scene_description():\n",
    "    scenes = [\n",
    "        \"A serene mountain landscape at sunset\",\n",
    "        \"A bustling cityscape at night\",\n",
    "        \"A peaceful garden with blooming flowers\",\n",
    "        \"A mysterious forest in the fog\",\n",
    "        \"A cozy cabin by a lake\"\n",
    "    ]\n",
    "    styles = [\n",
    "        \"in the style of Van Gogh\",\n",
    "        \"with a cyberpunk aesthetic\",\n",
    "        \"in watercolor\",\n",
    "        \"as an oil painting\",\n",
    "        \"with a minimalist design\"\n",
    "    ]\n",
    "    return f\"{random.choice(scenes)} {random.choice(styles)}\"\n",
    "\n",
    "def generate_metadata():\n",
    "    return {\n",
    "        \"timestamp\": datetime.now().isoformat(),\n",
    "        \"style_params\": {\n",
    "            \"strength\": random.uniform(0.5, 1.0),\n",
    "            \"noise\": random.uniform(0.1, 0.5),\n",
    "            \"contrast\": random.uniform(0.8, 1.2)\n",
    "        },\n",
    "        \"tags\": random.sample([\n",
    "            \"nature\", \"urban\", \"abstract\", \"landscape\",\n",
    "            \"artistic\", \"modern\", \"traditional\", \"minimal\"\n",
    "        ], 3)\n",
    "    }"
   ]
  },
  {
   "cell_type": "code",
   "execution_count": null,
   "metadata": {},
   "source": [
    "# Generate sample data\n",
    "num_samples = 100\n",
    "data = [(i,\n",
    "         generate_scene_description(),\n",
    "         json.dumps(generate_metadata()))\n",
    "        for i in range(num_samples)]\n",
    "\n",
    "# Define schema\n",
    "schema = StructType([\n",
    "    StructField(\"id\", IntegerType(), False),\n",
    "    StructField(\"description\", StringType(), False),\n",
    "    StructField(\"metadata\", StringType(), False)\n",
    "])\n",
    "\n",
    "# Create DataFrame\n",
    "df = spark.createDataFrame(data, schema)"
   ]
  },
  {
   "cell_type": "code",
   "execution_count": null,
   "metadata": {},
   "source": [
    "# Show sample of the data\n",
    "df.show(5, truncate=False)"
   ]
  },
  {
   "cell_type": "code",
   "execution_count": null,
   "metadata": {},
   "source": [
    "# Save as parquet\n",
    "output_path = \"/data/sample_dataset.parquet\"\n",
    "df.write.mode(\"overwrite\").parquet(output_path)\n",
    "print(f\"Dataset saved to {output_path}\")"
   ]
  },
  {
   "cell_type": "code",
   "execution_count": null,
   "metadata": {},
   "source": [
    "# Save metadata about the dataset\n",
    "dataset_metadata = {\n",
    "    \"name\": \"sample_dataset\",\n",
    "    \"created_at\": datetime.now().isoformat(),\n",
    "    \"num_samples\": num_samples,\n",
    "    \"schema\": {field.name: str(field.dataType) for field in schema.fields},\n",
    "    \"description\": \"Sample dataset for ComfyUI Spark integration demo\"\n",
    "}\n",
    "\n",
    "with open(\"/data/sample_dataset_metadata.json\", \"w\") as f:\n",
    "    json.dump(dataset_metadata, f, indent=2)\n",
    "print(\"Dataset metadata saved\")"
   ]
  }
 ],
 "metadata": {
  "kernelspec": {
   "display_name": "Python 3",
   "language": "python",
   "name": "python3"
  },
  "language_info": {
   "codemirror_mode": {
    "name": "ipython",
    "version": 3
   },
   "file_extension": ".py",
   "mimetype": "text/x-python",
   "name": "python",
   "nbconvert_exporter": "python",
   "pygments_lexer": "ipython3",
   "version": "3.10.0"
  }
 },
 "nbformat": 4,
 "nbformat_minor": 4
}
